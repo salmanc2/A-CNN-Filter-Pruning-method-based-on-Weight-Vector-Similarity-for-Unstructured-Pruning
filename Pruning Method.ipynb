{
  "nbformat": 4,
  "nbformat_minor": 0,
  "metadata": {
    "colab": {
      "name": "Copy of Salz498R(LENET-5)",
      "provenance": [],
      "collapsed_sections": []
    },
    "kernelspec": {
      "name": "python3",
      "display_name": "Python 3"
    }
  },
  "cells": [
    {
      "cell_type": "code",
      "metadata": {
        "id": "bC-K3gMvSFqu",
        "colab": {
          "base_uri": "https://localhost:8080/"
        },
        "outputId": "1940c0a0-241a-46cd-a814-c7fec92bf0f3"
      },
      "source": [
        "from google.colab import drive\n",
        "drive.mount('/content/drive')"
      ],
      "execution_count": null,
      "outputs": [
        {
          "output_type": "stream",
          "text": [
            "Mounted at /content/drive\n"
          ],
          "name": "stdout"
        }
      ]
    },
    {
      "cell_type": "code",
      "metadata": {
        "id": "708PDS0tSNta",
        "colab": {
          "base_uri": "https://localhost:8080/"
        },
        "outputId": "cc433f16-a586-45d6-aed0-205f0744954f"
      },
      "source": [
        " cd/content/drive/My Drive/Colab Notebooks"
      ],
      "execution_count": null,
      "outputs": [
        {
          "output_type": "stream",
          "text": [
            "/content/drive/My Drive/Colab Notebooks\n"
          ],
          "name": "stdout"
        }
      ]
    },
    {
      "cell_type": "code",
      "metadata": {
        "id": "koOw96NcSrxH",
        "colab": {
          "base_uri": "https://localhost:8080/"
        },
        "outputId": "03f9a635-54f2-41f1-e67f-5dde03906f05"
      },
      "source": [
        "!pip install tensorflow_model_optimization"
      ],
      "execution_count": null,
      "outputs": [
        {
          "output_type": "stream",
          "text": [
            "Collecting tensorflow_model_optimization\n",
            "\u001b[?25l  Downloading https://files.pythonhosted.org/packages/55/38/4fd48ea1bfcb0b6e36d949025200426fe9c3a8bfae029f0973d85518fa5a/tensorflow_model_optimization-0.5.0-py2.py3-none-any.whl (172kB)\n",
            "\r\u001b[K     |██                              | 10kB 16.3MB/s eta 0:00:01\r\u001b[K     |███▉                            | 20kB 2.0MB/s eta 0:00:01\r\u001b[K     |█████▊                          | 30kB 2.6MB/s eta 0:00:01\r\u001b[K     |███████▋                        | 40kB 2.9MB/s eta 0:00:01\r\u001b[K     |█████████▌                      | 51kB 2.4MB/s eta 0:00:01\r\u001b[K     |███████████▍                    | 61kB 2.6MB/s eta 0:00:01\r\u001b[K     |█████████████▎                  | 71kB 3.0MB/s eta 0:00:01\r\u001b[K     |███████████████▏                | 81kB 3.2MB/s eta 0:00:01\r\u001b[K     |█████████████████               | 92kB 3.4MB/s eta 0:00:01\r\u001b[K     |███████████████████             | 102kB 3.3MB/s eta 0:00:01\r\u001b[K     |████████████████████▉           | 112kB 3.3MB/s eta 0:00:01\r\u001b[K     |██████████████████████▊         | 122kB 3.3MB/s eta 0:00:01\r\u001b[K     |████████████████████████▊       | 133kB 3.3MB/s eta 0:00:01\r\u001b[K     |██████████████████████████▋     | 143kB 3.3MB/s eta 0:00:01\r\u001b[K     |████████████████████████████▌   | 153kB 3.3MB/s eta 0:00:01\r\u001b[K     |██████████████████████████████▍ | 163kB 3.3MB/s eta 0:00:01\r\u001b[K     |████████████████████████████████| 174kB 3.3MB/s \n",
            "\u001b[?25hRequirement already satisfied: numpy~=1.14 in /usr/local/lib/python3.6/dist-packages (from tensorflow_model_optimization) (1.18.5)\n",
            "Requirement already satisfied: six~=1.10 in /usr/local/lib/python3.6/dist-packages (from tensorflow_model_optimization) (1.15.0)\n",
            "Requirement already satisfied: dm-tree~=0.1.1 in /usr/local/lib/python3.6/dist-packages (from tensorflow_model_optimization) (0.1.5)\n",
            "Installing collected packages: tensorflow-model-optimization\n",
            "Successfully installed tensorflow-model-optimization-0.5.0\n"
          ],
          "name": "stdout"
        }
      ]
    },
    {
      "cell_type": "code",
      "metadata": {
        "id": "Md_mTsHDSuFp"
      },
      "source": [
        "import tensorflow as tf\n",
        "import numpy as np\n",
        "import math\n",
        "import tensorflow_model_optimization as tfmot\n",
        "from tensorflow_model_optimization.sparsity import keras as sparsity\n",
        "# from tensorflow.keras import datasets, layers, models\n",
        "import matplotlib.pyplot as plt\n",
        "from tensorflow.keras.layers import AveragePooling2D, Conv2D, MaxPooling2D, ReLU\n",
        "from tensorflow.keras import models, layers, datasets\n",
        "from tensorflow.keras.layers import Dense, Flatten, Reshape, Input, InputLayer\n",
        "from tensorflow.keras.models import Sequential, Model\n",
        "from tensorflow.keras.initializers import RandomNormal\n",
        "from tensorflow.keras.models import model_from_json\n",
        "from used_func import parameter_count\n",
        "# import math\n",
        "from sklearn.metrics import accuracy_score, precision_score, recall_score"
      ],
      "execution_count": null,
      "outputs": []
    },
    {
      "cell_type": "code",
      "metadata": {
        "id": "8O_eESdqS378"
      },
      "source": [
        "batch_size = 32\n",
        "num_classes = 10\n",
        "num_epochs = 30"
      ],
      "execution_count": null,
      "outputs": []
    },
    {
      "cell_type": "code",
      "metadata": {
        "id": "OfmOtPkkTiOO",
        "colab": {
          "base_uri": "https://localhost:8080/"
        },
        "outputId": "22364d1c-f95c-4cb6-a28c-64da88859f8c"
      },
      "source": [
        "# Data preprocessing and cleadning:\n",
        "# input image dimensions\n",
        "img_rows, img_cols = 28, 28\n",
        "\n",
        "# Load MNIST dataset-\n",
        "(X_train, y_train), (X_test, y_test) = tf.keras.datasets.mnist.load_data()"
      ],
      "execution_count": null,
      "outputs": [
        {
          "output_type": "stream",
          "text": [
            "Downloading data from https://storage.googleapis.com/tensorflow/tf-keras-datasets/mnist.npz\n",
            "11493376/11490434 [==============================] - 0s 0us/step\n"
          ],
          "name": "stdout"
        }
      ]
    },
    {
      "cell_type": "code",
      "metadata": {
        "id": "hpN86RYeTl1P",
        "colab": {
          "base_uri": "https://localhost:8080/"
        },
        "outputId": "50dfe254-933e-4910-f37f-9a762c800206"
      },
      "source": [
        "if tf.keras.backend.image_data_format() == 'channels_first':\n",
        "    X_train = X_train.reshape(X_train.shape[0], 1, img_rows, img_cols)\n",
        "    X_test = X_test.reshape(X_test.shape[0], 1, img_rows, img_cols)\n",
        "    input_shape = (1, img_rows, img_cols)\n",
        "else:\n",
        "    X_train = X_train.reshape(X_train.shape[0], img_rows, img_cols, 1)\n",
        "    X_test = X_test.reshape(X_test.shape[0], img_rows, img_cols, 1)\n",
        "    input_shape = (img_rows, img_cols, 1)\n",
        "\n",
        "print(\"\\n'input_shape' which will be used = {0}\\n\".format(input_shape))"
      ],
      "execution_count": null,
      "outputs": [
        {
          "output_type": "stream",
          "text": [
            "\n",
            "'input_shape' which will be used = (28, 28, 1)\n",
            "\n"
          ],
          "name": "stdout"
        }
      ]
    },
    {
      "cell_type": "code",
      "metadata": {
        "id": "Sckjf7rHTn6m"
      },
      "source": [
        "# Convert datasets to floating point types-\n",
        "X_train = X_train.astype('float32')\n",
        "X_test = X_test.astype('float32')\n",
        "\n",
        "# Normalize the training and testing datasets-\n",
        "X_train /= 255.0\n",
        "X_test /= 255.0"
      ],
      "execution_count": null,
      "outputs": []
    },
    {
      "cell_type": "code",
      "metadata": {
        "id": "oHHvg1RCTpkl"
      },
      "source": [
        "# convert class vectors/target to binary class matrices or one-hot encoded values-\n",
        "y_train = tf.keras.utils.to_categorical(y_train, num_classes)\n",
        "y_test = tf.keras.utils.to_categorical(y_test, num_classes)"
      ],
      "execution_count": null,
      "outputs": []
    },
    {
      "cell_type": "code",
      "metadata": {
        "id": "EstAED8CTq65",
        "colab": {
          "base_uri": "https://localhost:8080/"
        },
        "outputId": "106a0a7b-cd11-489b-9a01-f9dbed05b18c"
      },
      "source": [
        "print(\"\\nDimensions of training and testing sets are:\")\n",
        "print(\"X_train.shape = {0}, y_train = {1}\".format(X_train.shape, y_train.shape))\n",
        "print(\"X_test.shape = {0}, y_test = {1}\".format(X_test.shape, y_test.shape))"
      ],
      "execution_count": null,
      "outputs": [
        {
          "output_type": "stream",
          "text": [
            "\n",
            "Dimensions of training and testing sets are:\n",
            "X_train.shape = (60000, 28, 28, 1), y_train = (60000, 10)\n",
            "X_test.shape = (10000, 28, 28, 1), y_test = (10000, 10)\n"
          ],
          "name": "stdout"
        }
      ]
    },
    {
      "cell_type": "code",
      "metadata": {
        "id": "PnGEQxlXTsl-"
      },
      "source": [
        "# Create training and testing datasets-\n",
        "train_dataset = tf.data.Dataset.from_tensor_slices((X_train, y_train))\n",
        "test_dataset = tf.data.Dataset.from_tensor_slices((X_test, y_test))"
      ],
      "execution_count": null,
      "outputs": []
    },
    {
      "cell_type": "code",
      "metadata": {
        "id": "luZyew1wT7g5"
      },
      "source": [
        "train_dataset = train_dataset.shuffle(buffer_size = 20000, reshuffle_each_iteration = True).batch(batch_size = batch_size, drop_remainder = False)"
      ],
      "execution_count": null,
      "outputs": []
    },
    {
      "cell_type": "code",
      "metadata": {
        "id": "--XaSZxHT8gk"
      },
      "source": [
        "test_dataset = test_dataset.batch(batch_size=batch_size, drop_remainder=False)"
      ],
      "execution_count": null,
      "outputs": []
    },
    {
      "cell_type": "code",
      "metadata": {
        "id": "WDCPtWj3T-4K"
      },
      "source": [
        "# Choose an optimizer and loss function for training-\n",
        "loss_fn = tf.keras.losses.CategoricalCrossentropy()\n",
        "optimizer = tf.keras.optimizers.Adam(lr = 0.0012)"
      ],
      "execution_count": null,
      "outputs": []
    },
    {
      "cell_type": "code",
      "metadata": {
        "id": "HtO7kQEgUClq"
      },
      "source": [
        "# Select metrics to measure the error & accuracy of model.\n",
        "# These metrics accumulate the values over epochs and then\n",
        "# print the overall result-\n",
        "train_loss = tf.keras.metrics.Mean(name = 'train_loss')\n",
        "train_accuracy = tf.keras.metrics.CategoricalAccuracy(name = 'train_accuracy')\n",
        "\n",
        "test_loss = tf.keras.metrics.Mean(name = 'test_loss')\n",
        "test_accuracy = tf.keras.metrics.CategoricalAccuracy(name = 'test_accuracy')"
      ],
      "execution_count": null,
      "outputs": []
    },
    {
      "cell_type": "code",
      "metadata": {
        "id": "8hIZs9kaUEQF",
        "colab": {
          "base_uri": "https://localhost:8080/"
        },
        "outputId": "180fb69a-d6e0-4a7c-f130-2eac03ef6aca"
      },
      "source": [
        "# The model is first trained without any pruning for 'num_epochs' epochs-\n",
        "epochs = num_epochs\n",
        "\n",
        "num_train_samples = X_train.shape[0]\n",
        "\n",
        "end_step = np.ceil(1.0 * num_train_samples / batch_size).astype(np.int32) * epochs\n",
        "\n",
        "print(\"'end_step parameter' for this dataset =  {0}\".format(end_step))"
      ],
      "execution_count": null,
      "outputs": [
        {
          "output_type": "stream",
          "text": [
            "'end_step parameter' for this dataset =  56250\n"
          ],
          "name": "stdout"
        }
      ]
    },
    {
      "cell_type": "code",
      "metadata": {
        "id": "JYphUOqbXyVG"
      },
      "source": [
        "# Specify the parameters to be used for layer-wise pruning, NO PRUNING is done here:\n",
        "pruning_params_unpruned = {\n",
        "    'pruning_schedule': sparsity.ConstantSparsity(\n",
        "        target_sparsity=0.0, begin_step=0,\n",
        "        end_step = end_step, frequency=100\n",
        "    )\n",
        "}"
      ],
      "execution_count": null,
      "outputs": []
    },
    {
      "cell_type": "code",
      "metadata": {
        "id": "WlALos7EhLjr"
      },
      "source": [
        "l = tf.keras.layers"
      ],
      "execution_count": null,
      "outputs": []
    },
    {
      "cell_type": "code",
      "metadata": {
        "id": "DbD2Hirl4BTI"
      },
      "source": [
        "# Specify the parameters to be used for layer-wise pruning\n",
        "#p=0.2, %30 of the weights will be pruned in this setup\n",
        "#we are setting begin_step=0 because we will prune the trained model\n",
        "\n",
        "pruning_params_pruned = {\n",
        "    'pruning_schedule': sparsity.ConstantSparsity(\n",
        "        target_sparsity=0.3, begin_step=0,\n",
        "        end_step = -1, frequency=100\n",
        "    )\n",
        "}"
      ],
      "execution_count": null,
      "outputs": []
    },
    {
      "cell_type": "code",
      "metadata": {
        "id": "tt9yy5B7Z0L1"
      },
      "source": [
        "def pruned_nn(pruning_params_conv, pruning_params_fc):\n",
        "    \"\"\"\n",
        "    Function to define the architecture of a neural network model\n",
        "    following LeNet-5 architecture for MNIST dataset and using\n",
        "    provided parameter which are used to prune the model.\n",
        "    \n",
        "    \n",
        "    Input: 'pruning_params' Python 3 dictionary containing parameters which are used for pruning\n",
        "    Output: Returns designed and compiled neural network model\n",
        "    \"\"\"\n",
        "    \n",
        "    pruned_model = Sequential()\n",
        "    \n",
        "    pruned_model.add(sparsity.prune_low_magnitude(\n",
        "        Conv2D(\n",
        "            filters = 6, kernel_size = (3, 3),\n",
        "            activation='relu', kernel_initializer = tf.initializers.GlorotUniform(),\n",
        "            strides = (1, 1), padding = 'valid',\n",
        "            input_shape=(28, 28, 1)\n",
        "        ),\n",
        "        **pruning_params_conv)\n",
        "    )\n",
        "       \n",
        "    pruned_model.add(sparsity.prune_low_magnitude(\n",
        "        MaxPooling2D(\n",
        "            pool_size = (2, 2),\n",
        "            strides = (2, 2)\n",
        "        ),\n",
        "        **pruning_params_conv)\n",
        "    )\n",
        "\n",
        "    pruned_model.add(sparsity.prune_low_magnitude(\n",
        "        Conv2D(\n",
        "            filters = 16, kernel_size = (3, 3),\n",
        "            activation='relu', kernel_initializer = tf.initializers.GlorotUniform(),\n",
        "            strides = (1, 1), padding = 'valid'\n",
        "        ),\n",
        "        **pruning_params_conv)\n",
        "    )\n",
        "    \n",
        "    pruned_model.add(sparsity.prune_low_magnitude(\n",
        "        MaxPooling2D(\n",
        "            pool_size = (2, 2),\n",
        "            strides = (2, 2)\n",
        "        ),\n",
        "        **pruning_params_conv)\n",
        "    )\n",
        "   \n",
        "    pruned_model.add(Flatten())\n",
        "    \n",
        "    pruned_model.add(sparsity.prune_low_magnitude(\n",
        "        Dense(\n",
        "            units = 120, activation='relu',\n",
        "            kernel_initializer = tf.initializers.GlorotUniform()\n",
        "        ),\n",
        "        **pruning_params_fc)\n",
        "    )\n",
        "    \n",
        "    pruned_model.add(sparsity.prune_low_magnitude(\n",
        "        Dense(\n",
        "            units = 84, activation='relu',\n",
        "            kernel_initializer = tf.initializers.GlorotUniform()\n",
        "        ),\n",
        "        **pruning_params_fc)\n",
        "    )\n",
        "    \n",
        "    pruned_model.add(sparsity.prune_low_magnitude(\n",
        "        Dense(\n",
        "            units = 10, activation='softmax'\n",
        "        ),\n",
        "        **pruning_params_fc)\n",
        "    )\n",
        "    \n",
        "\n",
        "    # Compile pruned CNN-\n",
        "    pruned_model.compile(\n",
        "        loss=tf.keras.losses.categorical_crossentropy,\n",
        "        # optimizer='adam',\n",
        "        optimizer=tf.keras.optimizers.Adam(lr = 0.0012),\n",
        "        metrics=['accuracy']\n",
        "    )\n",
        "    \n",
        "    \n",
        "    return pruned_model\n",
        "    \n"
      ],
      "execution_count": null,
      "outputs": []
    },
    {
      "cell_type": "code",
      "metadata": {
        "id": "ieta28EbCCh4"
      },
      "source": [
        "# Add a pruning step callback to peg the pruning step to the optimizer's \n",
        "# step. Also add a callback to add pruning summaries to tensorboard\n",
        "\n",
        "callbacks = [\n",
        "             sparsity.UpdatePruningStep(),\n",
        "             # sparsity.PruningSummaries(log_dir = logdir, profile_batch=0),\n",
        "             tf.keras.callbacks.EarlyStopping(\n",
        "                 monitor='val_loss', patience = 3,\n",
        "                 min_delta=0.001\n",
        "             )\n",
        "]"
      ],
      "execution_count": null,
      "outputs": []
    },
    {
      "cell_type": "code",
      "metadata": {
        "id": "PGeZEt_ZaaBM"
      },
      "source": [
        "# Add a pruning step callback to peg the pruning step to the optimizer's\n",
        "# step. Also add a callback to add pruning summaries to tensorboard\n",
        "callback = [\n",
        "             sparsity.UpdatePruningStep(),\n",
        "             # sparsity.PruningSummaries(log_dir = logdir, profile_batch=0),\n",
        "             tf.keras.callbacks.EarlyStopping(\n",
        "                 monitor='val_loss', patience = 3,\n",
        "                 min_delta=0.001\n",
        "             )\n",
        "]"
      ],
      "execution_count": null,
      "outputs": []
    },
    {
      "cell_type": "code",
      "metadata": {
        "id": "IJNm7E2FagbY",
        "colab": {
          "base_uri": "https://localhost:8080/"
        },
        "outputId": "a97b2139-efd3-4442-c327-5774ce2bbedf"
      },
      "source": [
        "# Initialize a CNN model-\n",
        "orig_model = pruned_nn(pruning_params_unpruned, pruning_params_unpruned)"
      ],
      "execution_count": null,
      "outputs": [
        {
          "output_type": "stream",
          "text": [
            "WARNING:tensorflow:From /usr/local/lib/python3.6/dist-packages/tensorflow_model_optimization/python/core/sparsity/keras/pruning_wrapper.py:200: Layer.add_variable (from tensorflow.python.keras.engine.base_layer) is deprecated and will be removed in a future version.\n",
            "Instructions for updating:\n",
            "Please use `layer.add_weight` method instead.\n"
          ],
          "name": "stdout"
        }
      ]
    },
    {
      "cell_type": "code",
      "metadata": {
        "id": "GFHN28hf9bUs",
        "colab": {
          "base_uri": "https://localhost:8080/",
          "height": 433
        },
        "outputId": "2bcbe1ce-c883-420b-c70f-c1a0ee0f717e"
      },
      "source": [
        "orig_model.summary()"
      ],
      "execution_count": null,
      "outputs": [
        {
          "output_type": "stream",
          "text": [
            "Model: \"sequential_2\"\n",
            "_________________________________________________________________\n",
            "Layer (type)                 Output Shape              Param #   \n",
            "=================================================================\n",
            "prune_low_magnitude_conv2d_4 (None, 26, 26, 6)         116       \n",
            "_________________________________________________________________\n",
            "prune_low_magnitude_max_pool (None, 13, 13, 6)         1         \n",
            "_________________________________________________________________\n",
            "prune_low_magnitude_conv2d_5 (None, 11, 11, 16)        1746      \n",
            "_________________________________________________________________\n",
            "prune_low_magnitude_max_pool (None, 5, 5, 16)          1         \n",
            "_________________________________________________________________\n",
            "flatten_2 (Flatten)          (None, 400)               0         \n",
            "_________________________________________________________________\n",
            "prune_low_magnitude_dense_6  (None, 120)               96122     \n",
            "_________________________________________________________________\n",
            "prune_low_magnitude_dense_7  (None, 84)                20246     \n",
            "_________________________________________________________________\n",
            "prune_low_magnitude_dense_8  (None, 10)                1692      \n",
            "=================================================================\n",
            "Total params: 119,924\n",
            "Trainable params: 60,074\n",
            "Non-trainable params: 59,850\n",
            "_________________________________________________________________\n"
          ],
          "name": "stdout"
        }
      ]
    },
    {
      "cell_type": "code",
      "metadata": {
        "id": "oaWfEO9PgMJJ"
      },
      "source": [
        "# Save random weights-\n",
        "orig_model.save_weights(\"2LeNet_5_MNIST_Random_Weights.h5\", overwrite=True)"
      ],
      "execution_count": null,
      "outputs": []
    },
    {
      "cell_type": "code",
      "metadata": {
        "id": "Oej0TxthzGib"
      },
      "source": [
        "from tensorflow.keras.models import load_model\n",
        "orig_model.load_weights('LeNet_5_MNIST_Random_Weights.h5')"
      ],
      "execution_count": null,
      "outputs": []
    },
    {
      "cell_type": "code",
      "metadata": {
        "id": "5_5ZsgGUf-d2"
      },
      "source": [
        "# Strip model of it's pruning parameters\n",
        "orig_model_stripped = sparsity.strip_pruning(orig_model)"
      ],
      "execution_count": null,
      "outputs": []
    },
    {
      "cell_type": "code",
      "metadata": {
        "id": "I1dw3luP6d3J"
      },
      "source": [
        "orig_model_stripped.save_weights('2LeNet_5_MNIST_Random_Weights_stripped.h5')"
      ],
      "execution_count": null,
      "outputs": []
    },
    {
      "cell_type": "code",
      "metadata": {
        "id": "5slmH1JWh2QM",
        "colab": {
          "base_uri": "https://localhost:8080/"
        },
        "outputId": "9d37b7d8-9379-434e-feb5-acad2e143e6f"
      },
      "source": [
        "# Get CNN summary-\n",
        "orig_model_stripped.summary()"
      ],
      "execution_count": null,
      "outputs": [
        {
          "output_type": "stream",
          "text": [
            "Model: \"sequential\"\n",
            "_________________________________________________________________\n",
            "Layer (type)                 Output Shape              Param #   \n",
            "=================================================================\n",
            "conv2d (Conv2D)              (None, 26, 26, 6)         60        \n",
            "_________________________________________________________________\n",
            "max_pooling2d (MaxPooling2D) (None, 13, 13, 6)         0         \n",
            "_________________________________________________________________\n",
            "conv2d_1 (Conv2D)            (None, 11, 11, 16)        880       \n",
            "_________________________________________________________________\n",
            "max_pooling2d_1 (MaxPooling2 (None, 5, 5, 16)          0         \n",
            "_________________________________________________________________\n",
            "flatten (Flatten)            (None, 400)               0         \n",
            "_________________________________________________________________\n",
            "dense (Dense)                (None, 120)               48120     \n",
            "_________________________________________________________________\n",
            "dense_1 (Dense)              (None, 84)                10164     \n",
            "_________________________________________________________________\n",
            "dense_2 (Dense)              (None, 10)                850       \n",
            "=================================================================\n",
            "Total params: 60,074\n",
            "Trainable params: 60,074\n",
            "Non-trainable params: 0\n",
            "_________________________________________________________________\n"
          ],
          "name": "stdout"
        }
      ]
    },
    {
      "cell_type": "code",
      "metadata": {
        "id": "a4sPwfaVS0Vi",
        "colab": {
          "base_uri": "https://localhost:8080/"
        },
        "outputId": "e97d16c9-3ddb-457c-dfe1-c54da7c96dba"
      },
      "source": [
        "for layer in orig_model_stripped.layers:\n",
        "\t# check for convolutional layer\n",
        "\tif 'conv' not in layer.name:\n",
        "\t\tcontinue\n",
        "\t# get filter weights\n",
        "\tfilters, biases = layer.get_weights()\n",
        "\tprint(layer.name, filters.shape)"
      ],
      "execution_count": null,
      "outputs": [
        {
          "output_type": "stream",
          "text": [
            "conv2d (3, 3, 1, 6)\n",
            "conv2d_1 (3, 3, 6, 16)\n"
          ],
          "name": "stdout"
        }
      ]
    },
    {
      "cell_type": "markdown",
      "metadata": {
        "id": "aDwykrh9UyZS"
      },
      "source": [
        "First Conv layer"
      ]
    },
    {
      "cell_type": "code",
      "metadata": {
        "id": "H_wThPCNlbh-"
      },
      "source": [
        "filters, biases = orig_model_stripped.layers[0].get_weights()"
      ],
      "execution_count": null,
      "outputs": []
    },
    {
      "cell_type": "code",
      "metadata": {
        "id": "2hlF--8jmGh3",
        "colab": {
          "base_uri": "https://localhost:8080/"
        },
        "outputId": "6cbaecef-6794-4187-ce0b-f5df685ea886"
      },
      "source": [
        "print(filters.shape)\n",
        "print(filters[0][0][0][3])\n",
        "print(orig_model_stripped.layers[0].name)"
      ],
      "execution_count": null,
      "outputs": [
        {
          "output_type": "stream",
          "text": [
            "(3, 3, 1, 6)\n",
            "0.13284594\n",
            "conv2d\n"
          ],
          "name": "stdout"
        }
      ]
    },
    {
      "cell_type": "code",
      "metadata": {
        "id": "czgD08NuqW93",
        "colab": {
          "base_uri": "https://localhost:8080/"
        },
        "outputId": "383814b6-fb80-4fd4-a906-1f297457dac6"
      },
      "source": [
        "x = np.empty(shape=(6,9))\n",
        "u=0\n",
        "for i in range(6):\n",
        "  p=0\n",
        "  for j in range(3):\n",
        "    for k in range(3):\n",
        "      x[u][p] = (filters[j][k][0][i])\n",
        "      #  print(filters[j][k][0][i])\n",
        "      p=p+1 \n",
        "  u=u+1       \n",
        "print(x[3])\n",
        "\n",
        "        "
      ],
      "execution_count": null,
      "outputs": [
        {
          "output_type": "stream",
          "text": [
            "[ 0.13284594  0.08392861  0.27147278 -0.25486228 -0.1664923   0.20590797\n",
            " -0.26287442 -0.0366244  -0.23811343]\n"
          ],
          "name": "stdout"
        }
      ]
    },
    {
      "cell_type": "code",
      "metadata": {
        "id": "-uqveP5t95aL",
        "colab": {
          "base_uri": "https://localhost:8080/"
        },
        "outputId": "d6a409c0-0a45-4730-da1a-6f86a0d7c977"
      },
      "source": [
        "# similarity matrix wsum\n",
        "dot_product1 = np.empty(shape=(6,6))\n",
        "for i in range (6):\n",
        "  for j in range (6):\n",
        "    dot_product1[i][j] = np.dot(x[i],x[j])\n",
        "\n",
        "print (dot_product1)\n"
      ],
      "execution_count": null,
      "outputs": [
        {
          "output_type": "stream",
          "text": [
            "[[ 0.22952969 -0.0692921  -0.00298396  0.13357937 -0.05130636 -0.07042669]\n",
            " [-0.0692921   0.32383303  0.04467189  0.12505903  0.1980263  -0.09904198]\n",
            " [-0.00298396  0.04467189  0.2408508   0.00354562  0.22278785 -0.00779146]\n",
            " [ 0.13357937  0.12505903  0.00354562  0.3606044   0.08916927 -0.08710967]\n",
            " [-0.05130636  0.1980263   0.22278785  0.08916927  0.40617774 -0.12694147]\n",
            " [-0.07042669 -0.09904198 -0.00779146 -0.08710967 -0.12694147  0.18847015]]\n"
          ],
          "name": "stdout"
        }
      ]
    },
    {
      "cell_type": "code",
      "metadata": {
        "id": "0U7gK_KeDjA4",
        "colab": {
          "base_uri": "https://localhost:8080/"
        },
        "outputId": "2c936f23-634c-455d-b1db-3f73ee8f034d"
      },
      "source": [
        "# similarity matrix wmul\n",
        "dot_product2 = np.empty(shape=(6,6))\n",
        "for i in range (6):\n",
        "  for j in range (6):\n",
        "    dot_product2[i][j] = np.dot(abs(x[i]), abs(x[j]))\n",
        "\n",
        "print (dot_product2)\n"
      ],
      "execution_count": null,
      "outputs": [
        {
          "output_type": "stream",
          "text": [
            "[[0.22952969 0.21668758 0.16282975 0.21000829 0.23930447 0.15021579]\n",
            " [0.21668758 0.32383303 0.22022981 0.25890091 0.3052516  0.16176669]\n",
            " [0.16282975 0.22022981 0.2408508  0.24206771 0.2238899  0.14019392]\n",
            " [0.21000829 0.25890091 0.24206771 0.3606044  0.34338907 0.22289962]\n",
            " [0.23930447 0.3052516  0.2238899  0.34338907 0.40617774 0.20352294]\n",
            " [0.15021579 0.16176669 0.14019392 0.22289962 0.20352294 0.18847015]]\n"
          ],
          "name": "stdout"
        }
      ]
    },
    {
      "cell_type": "code",
      "metadata": {
        "id": "riIVf2KfIEY_",
        "colab": {
          "base_uri": "https://localhost:8080/"
        },
        "outputId": "6f2e16be-0f8d-4620-81d1-323df33c0cf8"
      },
      "source": [
        "e=dot_product1[0][0]/dot_product2[0][0]\n",
        "print(e)"
      ],
      "execution_count": null,
      "outputs": [
        {
          "output_type": "stream",
          "text": [
            "1.0\n"
          ],
          "name": "stdout"
        }
      ]
    },
    {
      "cell_type": "code",
      "metadata": {
        "id": "B5XLfRgLEUjr",
        "colab": {
          "base_uri": "https://localhost:8080/"
        },
        "outputId": "7f6c03a3-44e6-4d35-f2b6-69c689806170"
      },
      "source": [
        "a = []\n",
        "for i in range (6):\n",
        "  for j in range (6):\n",
        "    a.append(dot_product1[i][j]/dot_product2[i][j])\n",
        "\n",
        "print(np.array(a))\n",
        "len(a)\n"
      ],
      "execution_count": null,
      "outputs": [
        {
          "output_type": "stream",
          "text": [
            "[ 1.         -0.31977882 -0.01832564  0.63606712 -0.21439784 -0.46883677\n",
            " -0.31977882  1.          0.20284215  0.48303821  0.64873142 -0.612252\n",
            " -0.01832564  0.20284215  1.          0.0146472   0.99507774 -0.05557632\n",
            "  0.63606712  0.48303821  0.0146472   1.          0.25967418 -0.39080225\n",
            " -0.21439784  0.64873142  0.99507774  0.25967418  1.         -0.6237207\n",
            " -0.46883677 -0.612252   -0.05557632 -0.39080225 -0.6237207   1.        ]\n"
          ],
          "name": "stdout"
        },
        {
          "output_type": "execute_result",
          "data": {
            "text/plain": [
              "36"
            ]
          },
          "metadata": {
            "tags": []
          },
          "execution_count": 49
        }
      ]
    },
    {
      "cell_type": "code",
      "metadata": {
        "id": "r9-niEqH2lj2",
        "colab": {
          "base_uri": "https://localhost:8080/",
          "height": 225
        },
        "outputId": "9596ccbf-360a-44b0-cd37-390bc77289fb"
      },
      "source": [
        "print(x)"
      ],
      "execution_count": null,
      "outputs": [
        {
          "output_type": "stream",
          "text": [
            "[[-0.14853045  0.15485695  0.08538434 -0.21020025 -0.10585156  0.17156577\n",
            "   0.07031035 -0.28328329 -0.07861778]\n",
            " [ 0.21257988 -0.25795475  0.09758279  0.01528242  0.21965209  0.28693125\n",
            "  -0.11141749  0.13122016 -0.20527312]\n",
            " [-0.00222123  0.23137197 -0.2830753   0.0748069   0.12411854  0.22880402\n",
            "  -0.16213186  0.06521577 -0.05734679]\n",
            " [ 0.13284594  0.08392861  0.27147278 -0.25486228 -0.1664923   0.20590797\n",
            "  -0.26287442 -0.0366244  -0.23811343]\n",
            " [ 0.2480711   0.18378502 -0.06358118  0.30159637  0.19603029  0.29068175\n",
            "  -0.23049837  0.00945449 -0.19928861]\n",
            " [ 0.05576569  0.00252622 -0.17958859 -0.18793198  0.0038465  -0.19684312\n",
            "  -0.04708686  0.1022442   0.25758573]]\n"
          ],
          "name": "stdout"
        }
      ]
    },
    {
      "cell_type": "code",
      "metadata": {
        "id": "1OXROFj6vNWc"
      },
      "source": [
        "dot_product = np.empty(shape=(6,6))\n",
        "for i in range (6):\n",
        "  for j in range (6):\n",
        "    if i == j:\n",
        "      dot_product[i][j]=0\n",
        "      continue\n",
        "    dot_product[i][j] = np.dot(x[i],x[j])\n",
        "     "
      ],
      "execution_count": null,
      "outputs": []
    },
    {
      "cell_type": "code",
      "metadata": {
        "id": "eXjqrB4OyYu4",
        "colab": {
          "base_uri": "https://localhost:8080/",
          "height": 121
        },
        "outputId": "db771898-42da-41c4-b400-79a33c24352f"
      },
      "source": [
        "print(dot_product)"
      ],
      "execution_count": null,
      "outputs": [
        {
          "output_type": "stream",
          "text": [
            "[[ 0.         -0.0692921  -0.00298396  0.13357937 -0.05130636 -0.07042669]\n",
            " [-0.0692921   0.          0.04467189  0.12505903  0.1980263  -0.09904198]\n",
            " [-0.00298396  0.04467189  0.          0.00354562  0.22278785 -0.00779146]\n",
            " [ 0.13357937  0.12505903  0.00354562  0.          0.08916927 -0.08710967]\n",
            " [-0.05130636  0.1980263   0.22278785  0.08916927  0.         -0.12694147]\n",
            " [-0.07042669 -0.09904198 -0.00779146 -0.08710967 -0.12694147  0.        ]]\n"
          ],
          "name": "stdout"
        }
      ]
    },
    {
      "cell_type": "code",
      "metadata": {
        "id": "q7oIkLDWU4bc"
      },
      "source": [
        "filters, biases = orig_model_stripped.layers[2].get_weights()"
      ],
      "execution_count": null,
      "outputs": []
    },
    {
      "cell_type": "code",
      "metadata": {
        "id": "bas43PF0VA0v",
        "colab": {
          "base_uri": "https://localhost:8080/"
        },
        "outputId": "36b274ba-398f-4791-dbae-1535d6be32a7"
      },
      "source": [
        "print(filters.shape)"
      ],
      "execution_count": null,
      "outputs": [
        {
          "output_type": "stream",
          "text": [
            "(3, 3, 6, 16)\n"
          ],
          "name": "stdout"
        }
      ]
    },
    {
      "cell_type": "code",
      "metadata": {
        "id": "21cINj06Vn12",
        "colab": {
          "base_uri": "https://localhost:8080/"
        },
        "outputId": "ce2dd248-ec60-4f79-e534-e958b2fb1abc"
      },
      "source": [
        "x = np.empty(shape=(16,9))\n",
        "u=0\n",
        "for i in range(16):\n",
        "  p=0\n",
        "  for j in range(3):\n",
        "    for k in range(3):\n",
        "      x[u][p] = (filters[j][k][0][i])\n",
        "      #  print(filters[j][k][0][i])\n",
        "      p=p+1 \n",
        "  u=u+1       \n",
        "print(x[4])\n",
        "\n",
        "        "
      ],
      "execution_count": null,
      "outputs": [
        {
          "output_type": "stream",
          "text": [
            "[ 0.09718907  0.11855274 -0.17238611 -0.00509436 -0.12918457 -0.08536953\n",
            " -0.07800637  0.15302607  0.0887652 ]\n"
          ],
          "name": "stdout"
        }
      ]
    },
    {
      "cell_type": "code",
      "metadata": {
        "id": "0ElZD5YF5RNy",
        "colab": {
          "base_uri": "https://localhost:8080/"
        },
        "outputId": "4b0ddf76-16e1-4e8d-9d86-a99857168a2e"
      },
      "source": [
        "print(x)"
      ],
      "execution_count": null,
      "outputs": [
        {
          "output_type": "stream",
          "text": [
            "[[ 0.04437733  0.07581753 -0.10953792 -0.05711354 -0.16949855  0.00311154\n",
            "   0.10530072  0.11761606 -0.08597784]\n",
            " [-0.16401908  0.08326411  0.01551184  0.11349818  0.02050245  0.09421328\n",
            "   0.05727583  0.09441575  0.06304143]\n",
            " [-0.02668084 -0.11888543 -0.11821423 -0.15121114 -0.13956995 -0.09524076\n",
            "  -0.02647656  0.14596322 -0.00376585]\n",
            " [-0.15197226 -0.16185297 -0.1162073  -0.09883288 -0.08650377 -0.01475593\n",
            "   0.06519604  0.03884423 -0.0435688 ]\n",
            " [ 0.09718907  0.11855274 -0.17238611 -0.00509436 -0.12918457 -0.08536953\n",
            "  -0.07800637  0.15302607  0.0887652 ]\n",
            " [ 0.16684139 -0.09321386 -0.00024615 -0.10035369  0.12575856  0.05205093\n",
            "  -0.0103579  -0.05953676 -0.03177869]\n",
            " [-0.13001525  0.08865365  0.08222163 -0.08945391 -0.04266909 -0.05415805\n",
            "  -0.01876101 -0.06226058 -0.01406889]\n",
            " [-0.08089389 -0.03157537  0.15125111  0.11033052 -0.0380697   0.00451258\n",
            "  -0.0670973   0.05570097 -0.09174158]\n",
            " [-0.0733099  -0.16397828 -0.14128631  0.17308244  0.16640472 -0.16908431\n",
            "  -0.09322996  0.15475163 -0.07941184]\n",
            " [ 0.11157748 -0.04870555 -0.1672018   0.04546405  0.02623385 -0.04860988\n",
            "   0.06663156  0.1116381   0.13413155]\n",
            " [ 0.12895322 -0.10165888  0.14617065  0.0600421   0.05683805 -0.03175832\n",
            "  -0.10167474  0.0059119   0.16326231]\n",
            " [-0.00166611  0.01241714  0.05950929 -0.09100464  0.12547201  0.13845912\n",
            "  -0.07275014  0.07420251  0.07025383]\n",
            " [-0.01069728  0.01860164  0.07808742 -0.1483013   0.07174863 -0.08360571\n",
            "   0.07067838  0.05261064  0.13111812]\n",
            " [-0.15159076 -0.09493505  0.10062853  0.173042    0.04696789  0.06851751\n",
            "   0.10791871 -0.15102404  0.06891203]\n",
            " [ 0.15533957  0.06392212 -0.00867093  0.05211633  0.09437397 -0.08685336\n",
            "  -0.15559584 -0.12180261 -0.11656788]\n",
            " [-0.0295691   0.1635915  -0.10298276 -0.04390632 -0.09455824 -0.16679075\n",
            "  -0.12091012  0.14232248 -0.0519695 ]]\n"
          ],
          "name": "stdout"
        }
      ]
    },
    {
      "cell_type": "code",
      "metadata": {
        "id": "Uk920_xmV9Yl"
      },
      "source": [
        "dot_product = np.empty(shape=(16,16))\n",
        "for i in range (16):\n",
        "  for j in range (16):\n",
        "    # if i == j:\n",
        "    #   dot_product[i][j]=0\n",
        "    #   continue\n",
        "    dot_product[i][j] = np.dot(x[i],x[j])\n",
        "     "
      ],
      "execution_count": null,
      "outputs": []
    },
    {
      "cell_type": "code",
      "metadata": {
        "id": "_YzqVz781PFm",
        "colab": {
          "base_uri": "https://localhost:8080/"
        },
        "outputId": "9e4638db-f525-42da-8d58-4643ee531398"
      },
      "source": [
        "# similarity matrix wsum\n",
        "dot_product1 = np.empty(shape=(16,16))\n",
        "for i in range (16):\n",
        "  for j in range (16):\n",
        "    dot_product1[i][j] = np.dot(x[i],x[j])\n",
        "\n",
        "print (dot_product1)\n"
      ],
      "execution_count": null,
      "outputs": [
        {
          "output_type": "stream",
          "text": [
            "[[ 8.40315649e-02 -6.13424829e-04  4.94514784e-02  2.91545831e-02\n",
            "   5.62584629e-02 -2.04195969e-02 -3.97053135e-03 -1.50124436e-02\n",
            "  -2.36145868e-02  2.09936930e-02 -5.52061847e-02 -2.62634391e-02\n",
            "  -9.21224973e-03 -5.49022511e-02 -2.72413237e-02  4.88632864e-02]\n",
            " [-6.13424829e-04  7.24231945e-02 -2.43257469e-02 -7.88535924e-05\n",
            "  -4.43736422e-03 -4.72559124e-02  6.01211862e-03  2.07846409e-02\n",
            "   7.57029639e-03 -1.01899992e-03 -1.73330548e-02  1.47865475e-02\n",
            "  -1.44167776e-03  4.18445940e-02 -4.83840417e-02 -2.52609463e-03]\n",
            " [ 4.94514784e-02 -2.43257469e-02  1.02256054e-01  6.95651253e-02\n",
            "   5.46897235e-02 -8.97175314e-03 -6.88719305e-04 -1.35151816e-02\n",
            "   3.02147852e-02  3.06983078e-02 -1.96814072e-02 -1.29123225e-02\n",
            "   1.45305585e-02 -6.09723902e-02 -3.67194154e-02  5.34070444e-02]\n",
            " [ 2.91545831e-02 -7.88535924e-05  6.95651253e-02  8.79223047e-02\n",
            "  -3.99640249e-03 -1.35715176e-02  6.15763567e-03 -6.06373257e-03\n",
            "   2.84869326e-02  7.14779733e-03 -4.40241222e-02 -1.74961642e-02\n",
            "   1.63738329e-04  2.70020972e-03 -5.47754125e-02  4.87324104e-03]\n",
            " [ 5.62584629e-02 -4.43736422e-03  5.46897235e-02 -3.99640249e-03\n",
            "   1.14601237e-01 -2.60950950e-02 -1.50212897e-02 -2.80939631e-02\n",
            "   1.37513387e-02  5.82144552e-02 -6.32620335e-03 -1.32480551e-02\n",
            "   5.04657367e-04 -8.15450828e-02  2.27898682e-03  8.75489411e-02]\n",
            " [-2.04195969e-02 -4.72559124e-02 -8.97175314e-03 -1.35715176e-02\n",
            "  -2.60950950e-02  6.97821086e-02 -2.48356551e-02 -2.59210394e-02\n",
            "  -7.87907716e-03  7.80412790e-03  2.59370443e-02  2.47718687e-02\n",
            "   7.98482184e-03 -1.86757715e-02  3.46460002e-02 -4.18934804e-02]\n",
            " [-3.97053135e-03  6.01211862e-03 -6.88719305e-04  6.15763567e-03\n",
            "  -1.50212897e-02 -2.48356551e-02  4.87058703e-02  1.07463297e-02\n",
            "  -3.68172235e-02 -4.52138089e-02 -2.05936644e-02 -2.74475419e-03\n",
            "   1.77467407e-02  4.78114319e-03 -7.08495712e-03  2.10138457e-02]\n",
            " [-1.50124436e-02  2.07846409e-02 -1.35151816e-02 -6.06373257e-03\n",
            "  -2.80939631e-02 -2.59210394e-02  1.07463297e-02  6.00813745e-02\n",
            "   2.38972411e-02 -3.95373831e-02  1.13776753e-02 -2.87962141e-03\n",
            "  -2.12229348e-02  2.61181645e-02  2.19085604e-04  4.61188884e-04]\n",
            " [-2.36145868e-02  7.57029639e-03  3.02147852e-02  2.84869326e-02\n",
            "   1.37513387e-02 -7.87907716e-03 -3.68172235e-02  2.38972411e-02\n",
            "   1.77408741e-01  4.42963657e-02  9.21362425e-03 -1.59188152e-02\n",
            "  -2.17514516e-02 -2.60972900e-04  2.36794642e-02  3.21837345e-02]\n",
            " [ 2.09936930e-02 -1.01899992e-03  3.06983078e-02  7.14779733e-03\n",
            "   5.82144552e-02  7.80412790e-03 -4.52138089e-02 -3.95373831e-02\n",
            "   4.42963657e-02  8.27904254e-02  1.64481121e-02 -5.45742491e-03\n",
            "   1.22178316e-02 -2.37727793e-02 -1.48648612e-02  1.04441681e-02]\n",
            " [-5.52061847e-02 -1.73330548e-02 -1.96814072e-02 -4.40241222e-02\n",
            "  -6.32620335e-03  2.59370443e-02 -2.05936644e-02  1.13776753e-02\n",
            "   9.21362425e-03  1.64481121e-02  9.32008105e-02  2.37969268e-02\n",
            "   2.05039961e-02  1.50804692e-02  1.95863143e-02 -3.35601144e-02]\n",
            " [-2.62634391e-02  1.47865475e-02 -1.29123225e-02 -1.74961642e-02\n",
            "  -1.32480551e-02  2.47718687e-02 -2.74475419e-03 -2.87962141e-03\n",
            "  -1.59188152e-02 -5.45742491e-03  2.37969268e-02  6.26285103e-02\n",
            "   2.37918363e-02 -9.52164744e-03 -1.08160397e-02 -1.93044042e-02]\n",
            " [-9.21224973e-03 -1.44167776e-03  1.45305585e-02  1.63738329e-04\n",
            "   5.04657367e-04  7.98482184e-03  1.77467407e-02 -2.12229348e-02\n",
            "  -2.17514516e-02  1.22178316e-02  2.05039961e-02  2.37918363e-02\n",
            "   6.56444295e-02 -1.15897803e-02 -2.75355608e-02  1.11712266e-03]\n",
            " [-5.49022511e-02  4.18445940e-02 -6.09723902e-02  2.70020972e-03\n",
            "  -8.15450828e-02 -1.86757715e-02  4.78114319e-03  2.61181645e-02\n",
            "  -2.60972900e-04 -2.37727793e-02  1.50804692e-02 -9.52164744e-03\n",
            "  -1.15897803e-02  1.18166267e-01 -2.94186586e-02 -8.30019971e-02]\n",
            " [-2.72413237e-02 -4.83840417e-02 -3.67194154e-02 -5.47754125e-02\n",
            "   2.27898682e-03  3.46460002e-02 -7.08495712e-03  2.19085604e-04\n",
            "   2.36794642e-02 -1.48648612e-02  1.95863143e-02 -1.08160397e-02\n",
            "  -2.75355608e-02 -2.94186586e-02  1.00091681e-01  1.75669201e-02]\n",
            " [ 4.88632864e-02 -2.52609463e-03  5.34070444e-02  4.87324104e-03\n",
            "   8.75489411e-02 -4.18934804e-02  2.10138457e-02  4.61188884e-04\n",
            "   3.21837345e-02  1.04441681e-02 -3.35601144e-02 -1.93044042e-02\n",
            "   1.11712266e-03 -8.30019971e-02  1.75669201e-02  1.14505917e-01]]\n"
          ],
          "name": "stdout"
        }
      ]
    },
    {
      "cell_type": "code",
      "metadata": {
        "id": "Qr5GPO5w1oLE",
        "colab": {
          "base_uri": "https://localhost:8080/"
        },
        "outputId": "b0426b9d-a2de-4e60-f2cb-0c2e04073f53"
      },
      "source": [
        "# similarity matrix wsum\n",
        "dot_product2 = np.empty(shape=(16,16))\n",
        "for i in range (16):\n",
        "  for j in range (16):\n",
        "    dot_product1[i][j] = np.dot(abs(x[i]),abs(x[j]))\n",
        "\n",
        "print (dot_product2)\n"
      ],
      "execution_count": null,
      "outputs": [
        {
          "output_type": "stream",
          "text": [
            "[[ 1.74817722e-315  6.93952399e-310  0.00000000e+000  0.00000000e+000\n",
            "   0.00000000e+000  0.00000000e+000  0.00000000e+000  0.00000000e+000\n",
            "   0.00000000e+000  0.00000000e+000  6.93952807e-310 -5.77997053e+276\n",
            "   0.00000000e+000  0.00000000e+000  6.93952811e-310  5.72042127e-110]\n",
            " [ 0.00000000e+000  0.00000000e+000  0.00000000e+000  0.00000000e+000\n",
            "   0.00000000e+000  0.00000000e+000  0.00000000e+000  0.00000000e+000\n",
            "   0.00000000e+000  0.00000000e+000  0.00000000e+000  0.00000000e+000\n",
            "   6.93952669e-310 -9.33019824e-123  0.00000000e+000  0.00000000e+000]\n",
            " [ 0.00000000e+000  0.00000000e+000  0.00000000e+000  0.00000000e+000\n",
            "   6.93952669e-310  2.91371226e-148  0.00000000e+000  0.00000000e+000\n",
            "   0.00000000e+000  0.00000000e+000  6.93952786e-310  1.81800108e-093\n",
            "   0.00000000e+000  0.00000000e+000  0.00000000e+000  0.00000000e+000]\n",
            " [ 0.00000000e+000  0.00000000e+000  0.00000000e+000  0.00000000e+000\n",
            "   6.93952735e-310 -1.70095008e+296  6.93952669e-310  9.25381738e+265\n",
            "   0.00000000e+000  0.00000000e+000  0.00000000e+000  0.00000000e+000\n",
            "   0.00000000e+000  0.00000000e+000  0.00000000e+000  0.00000000e+000]\n",
            " [ 0.00000000e+000  0.00000000e+000  0.00000000e+000  0.00000000e+000\n",
            "   6.93952669e-310 -1.29621466e+068  0.00000000e+000  0.00000000e+000\n",
            "   0.00000000e+000  0.00000000e+000  0.00000000e+000  0.00000000e+000\n",
            "   0.00000000e+000  0.00000000e+000  0.00000000e+000  0.00000000e+000]\n",
            " [ 0.00000000e+000  0.00000000e+000  0.00000000e+000  0.00000000e+000\n",
            "   0.00000000e+000  0.00000000e+000  0.00000000e+000  0.00000000e+000\n",
            "   0.00000000e+000  0.00000000e+000  0.00000000e+000  0.00000000e+000\n",
            "   0.00000000e+000  0.00000000e+000  0.00000000e+000  0.00000000e+000]\n",
            " [ 0.00000000e+000  0.00000000e+000  6.93952813e-310  1.28935446e-127\n",
            "   0.00000000e+000  0.00000000e+000  6.93951067e-310 -2.49398800e+173\n",
            "   0.00000000e+000  0.00000000e+000  0.00000000e+000  0.00000000e+000\n",
            "   0.00000000e+000  0.00000000e+000  0.00000000e+000  0.00000000e+000]\n",
            " [ 6.93952669e-310  1.15685473e-278  0.00000000e+000  0.00000000e+000\n",
            "   0.00000000e+000  0.00000000e+000  0.00000000e+000  0.00000000e+000\n",
            "   6.93952737e-310 -2.83732716e+240  0.00000000e+000  0.00000000e+000\n",
            "   0.00000000e+000  0.00000000e+000  0.00000000e+000  0.00000000e+000]\n",
            " [ 6.93952669e-310  1.19539383e+257  0.00000000e+000  0.00000000e+000\n",
            "   0.00000000e+000  0.00000000e+000  6.93952669e-310  5.11943439e+053\n",
            "   0.00000000e+000  0.00000000e+000  0.00000000e+000  0.00000000e+000\n",
            "   6.93952751e-310 -2.04329203e+158  0.00000000e+000  0.00000000e+000]\n",
            " [ 0.00000000e+000  0.00000000e+000  0.00000000e+000  0.00000000e+000\n",
            "   0.00000000e+000  0.00000000e+000  0.00000000e+000  0.00000000e+000\n",
            "   0.00000000e+000  0.00000000e+000  0.00000000e+000  0.00000000e+000\n",
            "   0.00000000e+000  0.00000000e+000  0.00000000e+000  0.00000000e+000]\n",
            " [ 0.00000000e+000  0.00000000e+000  0.00000000e+000  0.00000000e+000\n",
            "   0.00000000e+000  0.00000000e+000  0.00000000e+000  0.00000000e+000\n",
            "   0.00000000e+000  0.00000000e+000  0.00000000e+000  0.00000000e+000\n",
            "   0.00000000e+000  0.00000000e+000  0.00000000e+000  0.00000000e+000]\n",
            " [ 0.00000000e+000  0.00000000e+000  0.00000000e+000  0.00000000e+000\n",
            "   0.00000000e+000  0.00000000e+000  0.00000000e+000  0.00000000e+000\n",
            "   0.00000000e+000  0.00000000e+000  0.00000000e+000  0.00000000e+000\n",
            "   6.93952669e-310  8.14996656e-024  0.00000000e+000  0.00000000e+000]\n",
            " [ 0.00000000e+000  0.00000000e+000  0.00000000e+000  0.00000000e+000\n",
            "   0.00000000e+000  0.00000000e+000  0.00000000e+000  0.00000000e+000\n",
            "   0.00000000e+000  0.00000000e+000  0.00000000e+000  0.00000000e+000\n",
            "   0.00000000e+000  0.00000000e+000  0.00000000e+000  0.00000000e+000]\n",
            " [ 0.00000000e+000  0.00000000e+000  0.00000000e+000  0.00000000e+000\n",
            "   0.00000000e+000  0.00000000e+000  6.93952809e-310 -2.64426582e-102\n",
            "   6.93952669e-310  1.37146894e+195  0.00000000e+000  0.00000000e+000\n",
            "   0.00000000e+000  0.00000000e+000  6.93952809e-310  1.14627443e-267]\n",
            " [ 0.00000000e+000  0.00000000e+000  0.00000000e+000  0.00000000e+000\n",
            "   0.00000000e+000  0.00000000e+000  0.00000000e+000  0.00000000e+000\n",
            "   0.00000000e+000  0.00000000e+000  0.00000000e+000  0.00000000e+000\n",
            "   6.93952784e-310  1.59618894e+029  0.00000000e+000  0.00000000e+000]\n",
            " [ 0.00000000e+000  0.00000000e+000  0.00000000e+000  0.00000000e+000\n",
            "   0.00000000e+000  0.00000000e+000  0.00000000e+000  0.00000000e+000\n",
            "   0.00000000e+000  0.00000000e+000  0.00000000e+000  0.00000000e+000\n",
            "   6.93952669e-310 -3.87204469e+283  0.00000000e+000  0.00000000e+000]]\n"
          ],
          "name": "stdout"
        }
      ]
    },
    {
      "cell_type": "code",
      "metadata": {
        "id": "GgbleSYB17Xx",
        "colab": {
          "base_uri": "https://localhost:8080/"
        },
        "outputId": "16e80d05-a58b-4e70-9077-7ea9a6b09785"
      },
      "source": [
        "a = []\n",
        "for i in range (16):\n",
        "  for j in range (16):\n",
        "    a.append(dot_product1[i][j]/dot_product2[i][j])\n",
        "\n",
        "print(a)\n",
        "len(a)"
      ],
      "execution_count": null,
      "outputs": [
        {
          "output_type": "stream",
          "text": [
            "[inf, 6.930946631761412e+307, inf, inf, inf, inf, inf, inf, inf, inf, 9.804997020717384e+307, -9.837067897160145e-279, inf, inf, 1.0471225913127775e+308, 1.3633520705585635e+108, inf, inf, inf, inf, inf, inf, inf, inf, inf, inf, inf, inf, 6.913398768102707e+307, -9.235822794996669e+120, inf, inf, inf, inf, inf, inf, 1.2786583361209114e+308, 2.13921305852961e+146, inf, inf, inf, inf, 8.215564035794778e+307, 3.6324005798126595e+91, inf, inf, inf, inf, inf, inf, inf, inf, 1.1791308989448499e+308, -3.904183639890304e-298, 8.825972607925038e+307, 6.460029109746243e-268, inf, inf, inf, inf, inf, inf, inf, inf, inf, inf, inf, inf, 1.6514272813687551e+308, -4.725198894215721e-70, inf, inf, inf, inf, inf, inf, inf, inf, inf, inf, inf, inf, inf, inf, inf, inf, inf, inf, inf, inf, inf, inf, inf, inf, inf, inf, inf, inf, 8.358721058165017e+307, 4.7502897256318965e+125, inf, inf, 7.018631804591735e+307, -1.7445393388411735e-175, inf, inf, inf, inf, inf, inf, inf, inf, 8.188481263887498e+307, 4.0503808722553115e+276, inf, inf, inf, inf, inf, inf, 1.1648146368171349e+308, -2.293779234872472e-242, inf, inf, inf, inf, inf, inf, 1.5076658623093366e+308, 7.68053352728773e-259, inf, inf, inf, inf, 1.1517678447419367e+308, 1.5789367405050112e-55, inf, inf, inf, inf, 1.3222009377629413e+308, -6.320886738461391e-160, inf, inf, inf, inf, inf, inf, inf, inf, inf, inf, inf, inf, inf, inf, inf, inf, inf, inf, inf, inf, inf, inf, inf, inf, inf, inf, inf, inf, inf, inf, inf, inf, inf, inf, inf, inf, inf, inf, inf, inf, inf, inf, inf, inf, inf, inf, 8.246601031918529e+307, 7.66213870406531e+21, inf, inf, inf, inf, inf, inf, inf, inf, inf, inf, inf, inf, inf, inf, inf, inf, inf, inf, inf, inf, inf, inf, inf, inf, 1.0085765426818167e+308, -2.7850811049501064e+100, inf, 6.13118688959573e-197, inf, inf, inf, inf, 1.3417429312114074e+308, 8.023105197117676e+265, inf, inf, inf, inf, inf, inf, inf, inf, inf, inf, inf, inf, 8.354884454757759e+307, 5.8333086438430045e-31, inf, inf, inf, inf, inf, inf, inf, inf, inf, inf, inf, inf, inf, inf, 8.86069598746429e+307, -2.3751482912361027e-285, inf, inf]\n"
          ],
          "name": "stdout"
        },
        {
          "output_type": "stream",
          "text": [
            "/usr/local/lib/python3.6/dist-packages/ipykernel_launcher.py:4: RuntimeWarning: overflow encountered in double_scalars\n",
            "  after removing the cwd from sys.path.\n",
            "/usr/local/lib/python3.6/dist-packages/ipykernel_launcher.py:4: RuntimeWarning: divide by zero encountered in double_scalars\n",
            "  after removing the cwd from sys.path.\n"
          ],
          "name": "stderr"
        },
        {
          "output_type": "execute_result",
          "data": {
            "text/plain": [
              "256"
            ]
          },
          "metadata": {
            "tags": []
          },
          "execution_count": 100
        }
      ]
    },
    {
      "cell_type": "code",
      "metadata": {
        "id": "uZdatoKXWEHb",
        "colab": {
          "base_uri": "https://localhost:8080/"
        },
        "outputId": "90c18257-717b-45e2-891a-fa09da2588be"
      },
      "source": [
        "print(dot_product)"
      ],
      "execution_count": null,
      "outputs": [
        {
          "output_type": "stream",
          "text": [
            "[[ 8.40315649e-02 -6.13424829e-04  4.94514784e-02  2.91545831e-02\n",
            "   5.62584629e-02 -2.04195969e-02 -3.97053135e-03 -1.50124436e-02\n",
            "  -2.36145868e-02  2.09936930e-02 -5.52061847e-02 -2.62634391e-02\n",
            "  -9.21224973e-03 -5.49022511e-02 -2.72413237e-02  4.88632864e-02]\n",
            " [-6.13424829e-04  7.24231945e-02 -2.43257469e-02 -7.88535924e-05\n",
            "  -4.43736422e-03 -4.72559124e-02  6.01211862e-03  2.07846409e-02\n",
            "   7.57029639e-03 -1.01899992e-03 -1.73330548e-02  1.47865475e-02\n",
            "  -1.44167776e-03  4.18445940e-02 -4.83840417e-02 -2.52609463e-03]\n",
            " [ 4.94514784e-02 -2.43257469e-02  1.02256054e-01  6.95651253e-02\n",
            "   5.46897235e-02 -8.97175314e-03 -6.88719305e-04 -1.35151816e-02\n",
            "   3.02147852e-02  3.06983078e-02 -1.96814072e-02 -1.29123225e-02\n",
            "   1.45305585e-02 -6.09723902e-02 -3.67194154e-02  5.34070444e-02]\n",
            " [ 2.91545831e-02 -7.88535924e-05  6.95651253e-02  8.79223047e-02\n",
            "  -3.99640249e-03 -1.35715176e-02  6.15763567e-03 -6.06373257e-03\n",
            "   2.84869326e-02  7.14779733e-03 -4.40241222e-02 -1.74961642e-02\n",
            "   1.63738329e-04  2.70020972e-03 -5.47754125e-02  4.87324104e-03]\n",
            " [ 5.62584629e-02 -4.43736422e-03  5.46897235e-02 -3.99640249e-03\n",
            "   1.14601237e-01 -2.60950950e-02 -1.50212897e-02 -2.80939631e-02\n",
            "   1.37513387e-02  5.82144552e-02 -6.32620335e-03 -1.32480551e-02\n",
            "   5.04657367e-04 -8.15450828e-02  2.27898682e-03  8.75489411e-02]\n",
            " [-2.04195969e-02 -4.72559124e-02 -8.97175314e-03 -1.35715176e-02\n",
            "  -2.60950950e-02  6.97821086e-02 -2.48356551e-02 -2.59210394e-02\n",
            "  -7.87907716e-03  7.80412790e-03  2.59370443e-02  2.47718687e-02\n",
            "   7.98482184e-03 -1.86757715e-02  3.46460002e-02 -4.18934804e-02]\n",
            " [-3.97053135e-03  6.01211862e-03 -6.88719305e-04  6.15763567e-03\n",
            "  -1.50212897e-02 -2.48356551e-02  4.87058703e-02  1.07463297e-02\n",
            "  -3.68172235e-02 -4.52138089e-02 -2.05936644e-02 -2.74475419e-03\n",
            "   1.77467407e-02  4.78114319e-03 -7.08495712e-03  2.10138457e-02]\n",
            " [-1.50124436e-02  2.07846409e-02 -1.35151816e-02 -6.06373257e-03\n",
            "  -2.80939631e-02 -2.59210394e-02  1.07463297e-02  6.00813745e-02\n",
            "   2.38972411e-02 -3.95373831e-02  1.13776753e-02 -2.87962141e-03\n",
            "  -2.12229348e-02  2.61181645e-02  2.19085604e-04  4.61188884e-04]\n",
            " [-2.36145868e-02  7.57029639e-03  3.02147852e-02  2.84869326e-02\n",
            "   1.37513387e-02 -7.87907716e-03 -3.68172235e-02  2.38972411e-02\n",
            "   1.77408741e-01  4.42963657e-02  9.21362425e-03 -1.59188152e-02\n",
            "  -2.17514516e-02 -2.60972900e-04  2.36794642e-02  3.21837345e-02]\n",
            " [ 2.09936930e-02 -1.01899992e-03  3.06983078e-02  7.14779733e-03\n",
            "   5.82144552e-02  7.80412790e-03 -4.52138089e-02 -3.95373831e-02\n",
            "   4.42963657e-02  8.27904254e-02  1.64481121e-02 -5.45742491e-03\n",
            "   1.22178316e-02 -2.37727793e-02 -1.48648612e-02  1.04441681e-02]\n",
            " [-5.52061847e-02 -1.73330548e-02 -1.96814072e-02 -4.40241222e-02\n",
            "  -6.32620335e-03  2.59370443e-02 -2.05936644e-02  1.13776753e-02\n",
            "   9.21362425e-03  1.64481121e-02  9.32008105e-02  2.37969268e-02\n",
            "   2.05039961e-02  1.50804692e-02  1.95863143e-02 -3.35601144e-02]\n",
            " [-2.62634391e-02  1.47865475e-02 -1.29123225e-02 -1.74961642e-02\n",
            "  -1.32480551e-02  2.47718687e-02 -2.74475419e-03 -2.87962141e-03\n",
            "  -1.59188152e-02 -5.45742491e-03  2.37969268e-02  6.26285103e-02\n",
            "   2.37918363e-02 -9.52164744e-03 -1.08160397e-02 -1.93044042e-02]\n",
            " [-9.21224973e-03 -1.44167776e-03  1.45305585e-02  1.63738329e-04\n",
            "   5.04657367e-04  7.98482184e-03  1.77467407e-02 -2.12229348e-02\n",
            "  -2.17514516e-02  1.22178316e-02  2.05039961e-02  2.37918363e-02\n",
            "   6.56444295e-02 -1.15897803e-02 -2.75355608e-02  1.11712266e-03]\n",
            " [-5.49022511e-02  4.18445940e-02 -6.09723902e-02  2.70020972e-03\n",
            "  -8.15450828e-02 -1.86757715e-02  4.78114319e-03  2.61181645e-02\n",
            "  -2.60972900e-04 -2.37727793e-02  1.50804692e-02 -9.52164744e-03\n",
            "  -1.15897803e-02  1.18166267e-01 -2.94186586e-02 -8.30019971e-02]\n",
            " [-2.72413237e-02 -4.83840417e-02 -3.67194154e-02 -5.47754125e-02\n",
            "   2.27898682e-03  3.46460002e-02 -7.08495712e-03  2.19085604e-04\n",
            "   2.36794642e-02 -1.48648612e-02  1.95863143e-02 -1.08160397e-02\n",
            "  -2.75355608e-02 -2.94186586e-02  1.00091681e-01  1.75669201e-02]\n",
            " [ 4.88632864e-02 -2.52609463e-03  5.34070444e-02  4.87324104e-03\n",
            "   8.75489411e-02 -4.18934804e-02  2.10138457e-02  4.61188884e-04\n",
            "   3.21837345e-02  1.04441681e-02 -3.35601144e-02 -1.93044042e-02\n",
            "   1.11712266e-03 -8.30019971e-02  1.75669201e-02  1.14505917e-01]]\n"
          ],
          "name": "stdout"
        }
      ]
    },
    {
      "cell_type": "code",
      "metadata": {
        "id": "VCh86Wf_hVWR",
        "colab": {
          "base_uri": "https://localhost:8080/",
          "height": 295
        },
        "outputId": "ab6711ee-1efd-48af-c6fa-67574f194fc5"
      },
      "source": [
        "# Train unpruned Neural Network-\n",
        "history_orig = orig_model.fit(\n",
        "    x = X_train, y = y_train,\n",
        "    batch_size = batch_size,\n",
        "    epochs = epochs,\n",
        "    verbose = 1,\n",
        "    callbacks = callbacks,\n",
        "    validation_data = (X_test, y_test),\n",
        "    shuffle = True\n",
        ")\n"
      ],
      "execution_count": null,
      "outputs": [
        {
          "output_type": "stream",
          "text": [
            "Epoch 1/30\n",
            "1875/1875 [==============================] - 30s 16ms/step - loss: 0.1768 - accuracy: 0.9466 - val_loss: 0.0628 - val_accuracy: 0.9795\n",
            "Epoch 2/30\n",
            "1875/1875 [==============================] - 30s 16ms/step - loss: 0.0630 - accuracy: 0.9809 - val_loss: 0.0445 - val_accuracy: 0.9852\n",
            "Epoch 3/30\n",
            "1875/1875 [==============================] - 35s 19ms/step - loss: 0.0460 - accuracy: 0.9852 - val_loss: 0.0463 - val_accuracy: 0.9853\n",
            "Epoch 4/30\n",
            "1875/1875 [==============================] - 30s 16ms/step - loss: 0.0370 - accuracy: 0.9882 - val_loss: 0.0396 - val_accuracy: 0.9869\n",
            "Epoch 5/30\n",
            "1875/1875 [==============================] - 31s 16ms/step - loss: 0.0287 - accuracy: 0.9912 - val_loss: 0.0380 - val_accuracy: 0.9882\n",
            "Epoch 6/30\n",
            "1875/1875 [==============================] - 31s 16ms/step - loss: 0.0240 - accuracy: 0.9924 - val_loss: 0.0426 - val_accuracy: 0.9862\n",
            "Epoch 7/30\n",
            "1875/1875 [==============================] - 30s 16ms/step - loss: 0.0189 - accuracy: 0.9937 - val_loss: 0.0397 - val_accuracy: 0.9871\n",
            "Epoch 8/30\n",
            "1875/1875 [==============================] - 30s 16ms/step - loss: 0.0162 - accuracy: 0.9943 - val_loss: 0.0455 - val_accuracy: 0.9876\n"
          ],
          "name": "stdout"
        }
      ]
    },
    {
      "cell_type": "code",
      "metadata": {
        "id": "Vi3rn6dcE_3M",
        "colab": {
          "base_uri": "https://localhost:8080/",
          "height": 87
        },
        "outputId": "e9521fc7-2af6-4e18-b4e8-5254841a0565"
      },
      "source": [
        "# Evaluate original unpruned trained model on testing dataset-\n",
        "score_orig_model = orig_model.evaluate(X_test, y_test, verbose=0)\n",
        "\n",
        "print(\"\\nOriginal & UNPRUNED model metrics on testing dataset:\")\n",
        "print(\"loss = {0:.4f} and accuracy = {1:.4f}\\n\".format(score_orig_model[0], score_orig_model[1]))"
      ],
      "execution_count": null,
      "outputs": [
        {
          "output_type": "stream",
          "text": [
            "\n",
            "Original & UNPRUNED model metrics on testing dataset:\n",
            "loss = 0.0455 and accuracy = 0.9876\n",
            "\n"
          ],
          "name": "stdout"
        }
      ]
    },
    {
      "cell_type": "code",
      "metadata": {
        "id": "DCEuVca8FXFu"
      },
      "source": [
        "# Trained parameters of neural network AFTER training UNPRUNED model-\n",
        "orig_model.save_weights(\"2LeNet_5_MNIST_Winning_Ticket_Trained_Weights.h5\", overwrite = True)"
      ],
      "execution_count": null,
      "outputs": []
    },
    {
      "cell_type": "code",
      "metadata": {
        "id": "DEXIpmuiFnYZ",
        "colab": {
          "base_uri": "https://localhost:8080/",
          "height": 991
        },
        "outputId": "001e090d-f0a2-4767-9f96-e137c59cabd5"
      },
      "source": [
        "# Visualize the training of the neural network (scalar metrics):\n",
        "fig=plt.figure(figsize=(8, 7), dpi= 80, facecolor='w', edgecolor='k')\n",
        "\n",
        "plt.plot(history_orig.history['loss'], label = 'training loss')\n",
        "plt.plot(history_orig.history['val_loss'], label = 'testing_loss')\n",
        "\n",
        "plt.title(\"MNIST 300 100 original model - UNPRUNED training visualization - Loss\")\n",
        "plt.xlabel(\"number of epochs\")\n",
        "plt.ylabel(\"Loss\")\n",
        "plt.legend(loc = 'best')\n",
        "plt.show()\n",
        "\n",
        "fig=plt.figure(figsize=(8, 7), dpi= 80, facecolor='w', edgecolor='k')\n",
        "\n",
        "plt.plot(history_orig.history['accuracy'], label = 'training accuracy')\n",
        "plt.plot(history_orig.history['val_accuracy'], label = 'testing accuracy')\n",
        "\n",
        "plt.title(\"MNIST 300 100 original model - UNPRUNED training visualization - Accuracy\")\n",
        "plt.xlabel(\"number of epochs\")\n",
        "plt.ylabel(\"Accuracy\")\n",
        "plt.legend(loc = 'best')  # 'center right'\n",
        "plt.show()\n"
      ],
      "execution_count": null,
      "outputs": [
        {
          "output_type": "display_data",
          "data": {
            "image/png": "[encoded data removed]",
            "text/plain": [
              "<Figure size 640x560 with 1 Axes>"
            ]
          },
          "metadata": {
            "tags": []
          }
        },
        {
          "output_type": "display_data",
          "data": {
            "image/png": "[encoded data removed]",
            "text/plain": [
              "<Figure size 640x560 with 1 Axes>"
            ]
          },
          "metadata": {
            "tags": []
          }
        }
      ]
    },
    {
      "cell_type": "code",
      "metadata": {
        "id": "l9kqQF8gFq7M",
        "colab": {
          "base_uri": "https://localhost:8080/",
          "height": 295
        },
        "outputId": "cb89a9c0-2a71-4fce-80e3-0f948c51c765"
      },
      "source": [
        "orig_model_trained=parameter_count('orig_model_trained',orig_model)"
      ],
      "execution_count": null,
      "outputs": [
        {
          "output_type": "stream",
          "text": [
            "\n",
            "In orig_model_trained Number of nonzero parameters in each layer are: \n",
            "\n",
            "54\n",
            "6\n",
            "864\n",
            "16\n",
            "48000\n",
            "120\n",
            "10080\n",
            "84\n",
            "840\n",
            "10\n",
            "\n",
            "Total number of trainable parameters = 60074\n",
            "\n"
          ],
          "name": "stdout"
        }
      ]
    },
    {
      "cell_type": "code",
      "metadata": {
        "id": "Kk5i31DGFzE4"
      },
      "source": [
        "orig_model_trained = sparsity.strip_pruning(orig_model)"
      ],
      "execution_count": null,
      "outputs": []
    },
    {
      "cell_type": "code",
      "metadata": {
        "id": "rRZ4xs_GG8xm"
      },
      "source": [
        "filters, biases = orig_model_trained.layers[0].get_weights()"
      ],
      "execution_count": null,
      "outputs": []
    },
    {
      "cell_type": "code",
      "metadata": {
        "id": "7LtXLorLHdjx",
        "colab": {
          "base_uri": "https://localhost:8080/",
          "height": 35
        },
        "outputId": "9ec15da2-063a-4e00-d6dc-7d1dc45ae7f9"
      },
      "source": [
        "print(filters.shape)"
      ],
      "execution_count": null,
      "outputs": [
        {
          "output_type": "stream",
          "text": [
            "(3, 3, 1, 6)\n"
          ],
          "name": "stdout"
        }
      ]
    },
    {
      "cell_type": "code",
      "metadata": {
        "id": "7fc4_ZYuHiXp",
        "colab": {
          "base_uri": "https://localhost:8080/",
          "height": 52
        },
        "outputId": "f20fd452-3ded-4b55-c0e7-8cca3066e7cd"
      },
      "source": [
        "x = np.empty(shape=(6,9))\n",
        "u=0\n",
        "for i in range(6):\n",
        "  p=0\n",
        "  for j in range(3):\n",
        "    for k in range(3):\n",
        "      x[u][p] = (filters[j][k][0][i])\n",
        "      #  print(filters[j][k][0][i])\n",
        "      p=p+1 \n",
        "  u=u+1       \n",
        "print(x[4])\n",
        "\n",
        "        "
      ],
      "execution_count": null,
      "outputs": [
        {
          "output_type": "stream",
          "text": [
            "[ 0.30296701  0.40787777  0.00521735  0.33774585  0.28836015  0.17907768\n",
            " -0.14144625 -0.02803118 -0.35024741]\n"
          ],
          "name": "stdout"
        }
      ]
    },
    {
      "cell_type": "code",
      "metadata": {
        "id": "ZqRZHs9UHsyt"
      },
      "source": [
        "dot_product = np.empty(shape=(6,6))\n",
        "for i in range (6):\n",
        "  for j in range (6):\n",
        "    if i == j:\n",
        "      dot_product[i][j]=0\n",
        "      continue\n",
        "    dot_product[i][j] = np.dot(x[i],x[j])\n",
        "     "
      ],
      "execution_count": null,
      "outputs": []
    },
    {
      "cell_type": "code",
      "metadata": {
        "id": "W9R8syQiHx7v",
        "colab": {
          "base_uri": "https://localhost:8080/",
          "height": 121
        },
        "outputId": "8a643621-ca88-428a-c1bb-8a0e318087c4"
      },
      "source": [
        "print(dot_product)"
      ],
      "execution_count": null,
      "outputs": [
        {
          "output_type": "stream",
          "text": [
            "[[ 0.         -0.00320974  0.1645022   0.94018657  0.28462931 -0.75171494]\n",
            " [-0.00320974  0.          0.08382403  0.07550877  0.19099935 -0.07216009]\n",
            " [ 0.1645022   0.08382403  0.          0.12936169  0.18721341  0.026445  ]\n",
            " [ 0.94018657  0.07550877  0.12936169  0.          0.45852119 -0.83837335]\n",
            " [ 0.28462931  0.19099935  0.18721341  0.45852119  0.         -0.58891398]\n",
            " [-0.75171494 -0.07216009  0.026445   -0.83837335 -0.58891398  0.        ]]\n"
          ],
          "name": "stdout"
        }
      ]
    },
    {
      "cell_type": "code",
      "metadata": {
        "id": "eFlc-rlMH1FA"
      },
      "source": [
        "# Instantiate a Nueal Network model to be pruned using parameters from above-\n",
        "pruned_model = pruned_nn(pruning_params_pruned,pruning_params_pruned)"
      ],
      "execution_count": null,
      "outputs": []
    },
    {
      "cell_type": "code",
      "metadata": {
        "id": "x2I-WFt730r2"
      },
      "source": [
        "# Load weights from original trained and unpruned model-\n",
        "pruned_model.load_weights(\"2LeNet_5_MNIST_Winning_Ticket_Trained_Weights.h5\")"
      ],
      "execution_count": null,
      "outputs": []
    },
    {
      "cell_type": "code",
      "metadata": {
        "id": "ZFyEYDX-5SxN",
        "colab": {
          "base_uri": "https://localhost:8080/",
          "height": 156
        },
        "outputId": "fd1f9f10-fde5-435e-c5b8-feb5ea7f4ac1"
      },
      "source": [
        "# Train pruned NN\n",
        "history_pruned = pruned_model.fit(\n",
        "    x = X_train, y = y_train,\n",
        "    batch_size = batch_size,\n",
        "    epochs = epochs,\n",
        "    verbose = 1,\n",
        "    callbacks = callbacks,\n",
        "    validation_data = (X_test, y_test),\n",
        "    shuffle = True\n",
        ")\n"
      ],
      "execution_count": null,
      "outputs": [
        {
          "output_type": "stream",
          "text": [
            "Epoch 1/30\n",
            "1875/1875 [==============================] - 30s 16ms/step - loss: 0.0122 - accuracy: 0.9960 - val_loss: 0.0420 - val_accuracy: 0.9891\n",
            "Epoch 2/30\n",
            "1875/1875 [==============================] - 33s 17ms/step - loss: 0.0076 - accuracy: 0.9976 - val_loss: 0.0523 - val_accuracy: 0.9863\n",
            "Epoch 3/30\n",
            "1875/1875 [==============================] - 31s 16ms/step - loss: 0.0085 - accuracy: 0.9972 - val_loss: 0.0556 - val_accuracy: 0.9871\n",
            "Epoch 4/30\n",
            "1875/1875 [==============================] - 31s 16ms/step - loss: 0.0064 - accuracy: 0.9979 - val_loss: 0.0543 - val_accuracy: 0.9892\n"
          ],
          "name": "stdout"
        }
      ]
    },
    {
      "cell_type": "code",
      "metadata": {
        "id": "tHkiqHk05Vak"
      },
      "source": [
        "# Save weights of PRUNED and Trained model BEFORE stripping-\n",
        "pruned_model.save_weights(\"2LeNet_5_MNIST_Winning_Ticket_Trained_Weights_Pruned.h5\", overwrite = True)"
      ],
      "execution_count": null,
      "outputs": []
    },
    {
      "cell_type": "code",
      "metadata": {
        "id": "qRwQGYKr6PCR"
      },
      "source": [
        "# Strip the pruning wrappers from pruned model-\n",
        "pruned_model_stripped = sparsity.strip_pruning(pruned_model)"
      ],
      "execution_count": null,
      "outputs": []
    },
    {
      "cell_type": "code",
      "metadata": {
        "id": "XesAw5hA6QqK",
        "colab": {
          "base_uri": "https://localhost:8080/",
          "height": 295
        },
        "outputId": "b6430aa9-302e-4890-e574-cb448e67e08e"
      },
      "source": [
        "# we need to load the original weights to the model before we continue\n",
        "\n",
        "orig_model_stripped.load_weights('2LeNet_5_MNIST_Random_Weights_stripped.h5')\n",
        "\n",
        "orig_model_stripped_params=parameter_count('orig_model_stripped',orig_model_stripped)"
      ],
      "execution_count": null,
      "outputs": [
        {
          "output_type": "stream",
          "text": [
            "\n",
            "In orig_model_stripped Number of nonzero parameters in each layer are: \n",
            "\n",
            "54\n",
            "0\n",
            "864\n",
            "0\n",
            "48000\n",
            "0\n",
            "10080\n",
            "0\n",
            "840\n",
            "0\n",
            "\n",
            "Total number of trainable parameters = 59838\n",
            "\n"
          ],
          "name": "stdout"
        }
      ]
    },
    {
      "cell_type": "code",
      "metadata": {
        "id": "4T2xXQkZ7luT"
      },
      "source": [
        "# Instantiate a new neural network model for which, the mask is to be created,\n",
        "\n",
        "mask_model = pruned_nn(pruning_params_unpruned,pruning_params_unpruned)"
      ],
      "execution_count": null,
      "outputs": []
    },
    {
      "cell_type": "code",
      "metadata": {
        "id": "eWymAxIi7mn3"
      },
      "source": [
        "# Load weights of PRUNED model-\n",
        "mask_model.load_weights(\"2LeNet_5_MNIST_Winning_Ticket_Trained_Weights_Pruned.h5\")"
      ],
      "execution_count": null,
      "outputs": []
    },
    {
      "cell_type": "code",
      "metadata": {
        "id": "5ti_ATHg72hb"
      },
      "source": [
        "# Strip the model of its pruning parameters-\n",
        "mask_model_stripped = sparsity.strip_pruning(mask_model)"
      ],
      "execution_count": null,
      "outputs": []
    },
    {
      "cell_type": "code",
      "metadata": {
        "id": "HpCBh0EW8CxG"
      },
      "source": [
        "# For each layer, for each weight which is 0, leave it, as is.\n",
        "# And for weights which survive the pruning,reinitialize it to ONE (1)-\n",
        "\n",
        "for wts in mask_model_stripped.trainable_weights:\n",
        "    wts.assign(tf.where(tf.equal(wts, 0.), 0., 1.))"
      ],
      "execution_count": null,
      "outputs": []
    },
    {
      "cell_type": "code",
      "metadata": {
        "id": "jxKmTBeY8Gjd",
        "colab": {
          "base_uri": "https://localhost:8080/",
          "height": 433
        },
        "outputId": "644498c9-0645-4c68-d8da-fd2c5ff57212"
      },
      "source": [
        "mask_model_stripped.summary()"
      ],
      "execution_count": null,
      "outputs": [
        {
          "output_type": "stream",
          "text": [
            "Model: \"sequential_2\"\n",
            "_________________________________________________________________\n",
            "Layer (type)                 Output Shape              Param #   \n",
            "=================================================================\n",
            "conv2d_4 (Conv2D)            (None, 26, 26, 6)         60        \n",
            "_________________________________________________________________\n",
            "max_pooling2d_4 (MaxPooling2 (None, 13, 13, 6)         0         \n",
            "_________________________________________________________________\n",
            "conv2d_5 (Conv2D)            (None, 11, 11, 16)        880       \n",
            "_________________________________________________________________\n",
            "max_pooling2d_5 (MaxPooling2 (None, 5, 5, 16)          0         \n",
            "_________________________________________________________________\n",
            "flatten_2 (Flatten)          (None, 400)               0         \n",
            "_________________________________________________________________\n",
            "dense_6 (Dense)              (None, 120)               48120     \n",
            "_________________________________________________________________\n",
            "dense_7 (Dense)              (None, 84)                10164     \n",
            "_________________________________________________________________\n",
            "dense_8 (Dense)              (None, 10)                850       \n",
            "=================================================================\n",
            "Total params: 60,074\n",
            "Trainable params: 60,074\n",
            "Non-trainable params: 0\n",
            "_________________________________________________________________\n"
          ],
          "name": "stdout"
        }
      ]
    },
    {
      "cell_type": "code",
      "metadata": {
        "id": "xjgtKUre8WSy"
      },
      "source": [
        "filters, biases = mask_model_stripped.layers[0].get_weights()"
      ],
      "execution_count": null,
      "outputs": []
    },
    {
      "cell_type": "markdown",
      "metadata": {
        "id": "o7-M-SlkpJRz"
      },
      "source": [
        "  "
      ]
    },
    {
      "cell_type": "code",
      "metadata": {
        "id": "0r4TAmAg8rjC",
        "colab": {
          "base_uri": "https://localhost:8080/",
          "height": 35
        },
        "outputId": "f0b99077-42df-4248-e1c5-8d3c9880fbfa"
      },
      "source": [
        "print(filters.shape)"
      ],
      "execution_count": null,
      "outputs": [
        {
          "output_type": "stream",
          "text": [
            "(3, 3, 1, 6)\n"
          ],
          "name": "stdout"
        }
      ]
    },
    {
      "cell_type": "code",
      "metadata": {
        "id": "J-6gXksa8wX_",
        "colab": {
          "base_uri": "https://localhost:8080/",
          "height": 35
        },
        "outputId": "22d8d859-0c60-45d6-fb58-a9611159a727"
      },
      "source": [
        "x = np.empty(shape=(6,9))\n",
        "u=0\n",
        "for i in range(6):\n",
        "  p=0\n",
        "  for j in range(3):\n",
        "    for k in range(3):\n",
        "      x[u][p] = (filters[j][k][0][i])\n",
        "      #  print(filters[j][k][0][i])\n",
        "      p=p+1 \n",
        "  u=u+1       \n",
        "print(x[4])\n",
        "\n",
        "        "
      ],
      "execution_count": null,
      "outputs": [
        {
          "output_type": "stream",
          "text": [
            "[1. 1. 0. 1. 1. 1. 0. 0. 1.]\n"
          ],
          "name": "stdout"
        }
      ]
    },
    {
      "cell_type": "code",
      "metadata": {
        "id": "fpGndXvF2bXE",
        "colab": {
          "base_uri": "https://localhost:8080/",
          "height": 121
        },
        "outputId": "8cabd656-993a-4364-c80f-d88206c9a2ee"
      },
      "source": [
        "print(x)"
      ],
      "execution_count": null,
      "outputs": [
        {
          "output_type": "stream",
          "text": [
            "[[0. 1. 1. 1. 0. 1. 1. 1. 1.]\n",
            " [1. 1. 0. 0. 1. 1. 0. 1. 0.]\n",
            " [0. 1. 1. 1. 1. 1. 1. 0. 1.]\n",
            " [1. 1. 1. 0. 0. 1. 1. 1. 1.]\n",
            " [1. 1. 0. 1. 1. 1. 0. 0. 1.]\n",
            " [0. 1. 1. 1. 0. 0. 1. 1. 1.]]\n"
          ],
          "name": "stdout"
        }
      ]
    },
    {
      "cell_type": "code",
      "metadata": {
        "id": "7ky7yQqM813m"
      },
      "source": [
        "dot_product = np.empty(shape=(6,6))\n",
        "for i in range (6):\n",
        "  for j in range (6):\n",
        "    if i == j:\n",
        "      dot_product[i][j]=0\n",
        "      continue\n",
        "    dot_product[i][j] = np.dot(x[i],x[j])\n",
        "     "
      ],
      "execution_count": null,
      "outputs": []
    },
    {
      "cell_type": "code",
      "metadata": {
        "id": "0yMkx6sa9GwC",
        "colab": {
          "base_uri": "https://localhost:8080/",
          "height": 121
        },
        "outputId": "72a6962a-fd37-4145-9cd6-489d47f675d5"
      },
      "source": [
        "print(dot_product)"
      ],
      "execution_count": null,
      "outputs": [
        {
          "output_type": "stream",
          "text": [
            "[[0. 3. 6. 6. 4. 6.]\n",
            " [3. 0. 3. 4. 4. 2.]\n",
            " [6. 3. 0. 5. 5. 5.]\n",
            " [6. 4. 5. 0. 4. 5.]\n",
            " [4. 4. 5. 4. 0. 3.]\n",
            " [6. 2. 5. 5. 3. 0.]]\n"
          ],
          "name": "stdout"
        }
      ]
    },
    {
      "cell_type": "code",
      "metadata": {
        "id": "S7XyX1ht9WXm"
      },
      "source": [
        "filters, biases =  mask_model_stripped.layers[2].get_weights()"
      ],
      "execution_count": null,
      "outputs": []
    },
    {
      "cell_type": "code",
      "metadata": {
        "id": "Hii7BUVs5pU5",
        "colab": {
          "base_uri": "https://localhost:8080/",
          "height": 35
        },
        "outputId": "b3713c63-d783-44e7-840b-bf5ed91ff2cd"
      },
      "source": [
        "conv2_pruned = np.empty(shape=(16,9))\n",
        "u=0\n",
        "for i in range(16):\n",
        "  p=0\n",
        "  for j in range(3):\n",
        "    for k in range(3):\n",
        "      conv2_pruned[u][p] = (filters[j][k][0][i])\n",
        "      #  print(filters[j][k][0][i])\n",
        "      p=p+1 \n",
        "  u=u+1       \n",
        "print(conv2_pruned[4])\n",
        "\n",
        "        "
      ],
      "execution_count": null,
      "outputs": [
        {
          "output_type": "stream",
          "text": [
            "[1. 1. 1. 0. 0. 1. 1. 1. 0.]\n"
          ],
          "name": "stdout"
        }
      ]
    },
    {
      "cell_type": "code",
      "metadata": {
        "id": "gTkl_Buf5zMZ",
        "colab": {
          "base_uri": "https://localhost:8080/",
          "height": 295
        },
        "outputId": "70aa3363-7245-4243-b766-a32c8396c5a1"
      },
      "source": [
        "print(conv2_pruned)"
      ],
      "execution_count": null,
      "outputs": [
        {
          "output_type": "stream",
          "text": [
            "[[0. 1. 1. 1. 1. 1. 1. 1. 1.]\n",
            " [1. 0. 0. 1. 0. 1. 1. 1. 1.]\n",
            " [1. 0. 1. 0. 0. 1. 0. 1. 0.]\n",
            " [1. 1. 0. 0. 1. 0. 1. 1. 1.]\n",
            " [1. 1. 1. 0. 0. 1. 1. 1. 0.]\n",
            " [1. 0. 1. 1. 1. 1. 1. 1. 0.]\n",
            " [0. 0. 1. 1. 1. 1. 1. 1. 1.]\n",
            " [1. 0. 1. 1. 0. 1. 1. 0. 1.]\n",
            " [0. 1. 0. 1. 1. 1. 1. 1. 1.]\n",
            " [1. 1. 1. 1. 1. 1. 1. 1. 1.]\n",
            " [1. 1. 0. 1. 1. 0. 1. 1. 1.]\n",
            " [0. 1. 1. 1. 1. 0. 0. 1. 1.]\n",
            " [1. 0. 0. 1. 1. 1. 1. 1. 1.]\n",
            " [0. 1. 0. 0. 0. 0. 1. 0. 1.]\n",
            " [1. 1. 1. 0. 1. 1. 1. 1. 1.]\n",
            " [1. 1. 0. 1. 1. 1. 1. 1. 1.]]\n"
          ],
          "name": "stdout"
        }
      ]
    },
    {
      "cell_type": "code",
      "metadata": {
        "id": "BJ_nG4c955m8"
      },
      "source": [
        "dot_product = np.empty(shape=(16,16))\n",
        "for i in range (16):\n",
        "  for j in range (16):\n",
        "    # if i == j:\n",
        "    #   dot_product[i][j]=0\n",
        "    #   continue\n",
        "    dot_product[i][j] = np.dot(x[i],x[j])\n",
        "     "
      ],
      "execution_count": null,
      "outputs": []
    },
    {
      "cell_type": "code",
      "metadata": {
        "id": "uB4RqxAz_dxa",
        "colab": {
          "base_uri": "https://localhost:8080/",
          "height": 1000
        },
        "outputId": "bcefbc6e-e287-41dc-ab55-b87bd37d576b"
      },
      "source": [
        "print(dot_product)"
      ],
      "execution_count": null,
      "outputs": [
        {
          "output_type": "stream",
          "text": [
            "[[ 8.40315649e-02 -6.13424829e-04  4.94514784e-02  2.91545831e-02\n",
            "   5.62584629e-02 -2.04195969e-02 -3.97053135e-03 -1.50124436e-02\n",
            "  -2.36145868e-02  2.09936930e-02 -5.52061847e-02 -2.62634391e-02\n",
            "  -9.21224973e-03 -5.49022511e-02 -2.72413237e-02  4.88632864e-02]\n",
            " [-6.13424829e-04  7.24231945e-02 -2.43257469e-02 -7.88535924e-05\n",
            "  -4.43736422e-03 -4.72559124e-02  6.01211862e-03  2.07846409e-02\n",
            "   7.57029639e-03 -1.01899992e-03 -1.73330548e-02  1.47865475e-02\n",
            "  -1.44167776e-03  4.18445940e-02 -4.83840417e-02 -2.52609463e-03]\n",
            " [ 4.94514784e-02 -2.43257469e-02  1.02256054e-01  6.95651253e-02\n",
            "   5.46897235e-02 -8.97175314e-03 -6.88719305e-04 -1.35151816e-02\n",
            "   3.02147852e-02  3.06983078e-02 -1.96814072e-02 -1.29123225e-02\n",
            "   1.45305585e-02 -6.09723902e-02 -3.67194154e-02  5.34070444e-02]\n",
            " [ 2.91545831e-02 -7.88535924e-05  6.95651253e-02  8.79223047e-02\n",
            "  -3.99640249e-03 -1.35715176e-02  6.15763567e-03 -6.06373257e-03\n",
            "   2.84869326e-02  7.14779733e-03 -4.40241222e-02 -1.74961642e-02\n",
            "   1.63738329e-04  2.70020972e-03 -5.47754125e-02  4.87324104e-03]\n",
            " [ 5.62584629e-02 -4.43736422e-03  5.46897235e-02 -3.99640249e-03\n",
            "   1.14601237e-01 -2.60950950e-02 -1.50212897e-02 -2.80939631e-02\n",
            "   1.37513387e-02  5.82144552e-02 -6.32620335e-03 -1.32480551e-02\n",
            "   5.04657367e-04 -8.15450828e-02  2.27898682e-03  8.75489411e-02]\n",
            " [-2.04195969e-02 -4.72559124e-02 -8.97175314e-03 -1.35715176e-02\n",
            "  -2.60950950e-02  6.97821086e-02 -2.48356551e-02 -2.59210394e-02\n",
            "  -7.87907716e-03  7.80412790e-03  2.59370443e-02  2.47718687e-02\n",
            "   7.98482184e-03 -1.86757715e-02  3.46460002e-02 -4.18934804e-02]\n",
            " [-3.97053135e-03  6.01211862e-03 -6.88719305e-04  6.15763567e-03\n",
            "  -1.50212897e-02 -2.48356551e-02  4.87058703e-02  1.07463297e-02\n",
            "  -3.68172235e-02 -4.52138089e-02 -2.05936644e-02 -2.74475419e-03\n",
            "   1.77467407e-02  4.78114319e-03 -7.08495712e-03  2.10138457e-02]\n",
            " [-1.50124436e-02  2.07846409e-02 -1.35151816e-02 -6.06373257e-03\n",
            "  -2.80939631e-02 -2.59210394e-02  1.07463297e-02  6.00813745e-02\n",
            "   2.38972411e-02 -3.95373831e-02  1.13776753e-02 -2.87962141e-03\n",
            "  -2.12229348e-02  2.61181645e-02  2.19085604e-04  4.61188884e-04]\n",
            " [-2.36145868e-02  7.57029639e-03  3.02147852e-02  2.84869326e-02\n",
            "   1.37513387e-02 -7.87907716e-03 -3.68172235e-02  2.38972411e-02\n",
            "   1.77408741e-01  4.42963657e-02  9.21362425e-03 -1.59188152e-02\n",
            "  -2.17514516e-02 -2.60972900e-04  2.36794642e-02  3.21837345e-02]\n",
            " [ 2.09936930e-02 -1.01899992e-03  3.06983078e-02  7.14779733e-03\n",
            "   5.82144552e-02  7.80412790e-03 -4.52138089e-02 -3.95373831e-02\n",
            "   4.42963657e-02  8.27904254e-02  1.64481121e-02 -5.45742491e-03\n",
            "   1.22178316e-02 -2.37727793e-02 -1.48648612e-02  1.04441681e-02]\n",
            " [-5.52061847e-02 -1.73330548e-02 -1.96814072e-02 -4.40241222e-02\n",
            "  -6.32620335e-03  2.59370443e-02 -2.05936644e-02  1.13776753e-02\n",
            "   9.21362425e-03  1.64481121e-02  9.32008105e-02  2.37969268e-02\n",
            "   2.05039961e-02  1.50804692e-02  1.95863143e-02 -3.35601144e-02]\n",
            " [-2.62634391e-02  1.47865475e-02 -1.29123225e-02 -1.74961642e-02\n",
            "  -1.32480551e-02  2.47718687e-02 -2.74475419e-03 -2.87962141e-03\n",
            "  -1.59188152e-02 -5.45742491e-03  2.37969268e-02  6.26285103e-02\n",
            "   2.37918363e-02 -9.52164744e-03 -1.08160397e-02 -1.93044042e-02]\n",
            " [-9.21224973e-03 -1.44167776e-03  1.45305585e-02  1.63738329e-04\n",
            "   5.04657367e-04  7.98482184e-03  1.77467407e-02 -2.12229348e-02\n",
            "  -2.17514516e-02  1.22178316e-02  2.05039961e-02  2.37918363e-02\n",
            "   6.56444295e-02 -1.15897803e-02 -2.75355608e-02  1.11712266e-03]\n",
            " [-5.49022511e-02  4.18445940e-02 -6.09723902e-02  2.70020972e-03\n",
            "  -8.15450828e-02 -1.86757715e-02  4.78114319e-03  2.61181645e-02\n",
            "  -2.60972900e-04 -2.37727793e-02  1.50804692e-02 -9.52164744e-03\n",
            "  -1.15897803e-02  1.18166267e-01 -2.94186586e-02 -8.30019971e-02]\n",
            " [-2.72413237e-02 -4.83840417e-02 -3.67194154e-02 -5.47754125e-02\n",
            "   2.27898682e-03  3.46460002e-02 -7.08495712e-03  2.19085604e-04\n",
            "   2.36794642e-02 -1.48648612e-02  1.95863143e-02 -1.08160397e-02\n",
            "  -2.75355608e-02 -2.94186586e-02  1.00091681e-01  1.75669201e-02]\n",
            " [ 4.88632864e-02 -2.52609463e-03  5.34070444e-02  4.87324104e-03\n",
            "   8.75489411e-02 -4.18934804e-02  2.10138457e-02  4.61188884e-04\n",
            "   3.21837345e-02  1.04441681e-02 -3.35601144e-02 -1.93044042e-02\n",
            "   1.11712266e-03 -8.30019971e-02  1.75669201e-02  1.14505917e-01]]\n"
          ],
          "name": "stdout"
        }
      ]
    },
    {
      "cell_type": "code",
      "metadata": {
        "id": "N2FZi21V_j4R"
      },
      "source": [
        ""
      ],
      "execution_count": null,
      "outputs": []
    }
  ]
}